{
 "cells": [
  {
   "cell_type": "markdown",
   "metadata": {},
   "source": [
    "### To draw vector function"
   ]
  },
  {
   "cell_type": "code",
   "execution_count": 1,
   "metadata": {},
   "outputs": [],
   "source": [
    "# To draw a vector line by using fuctions."
   ]
  },
  {
   "cell_type": "code",
   "execution_count": 1,
   "metadata": {},
   "outputs": [],
   "source": [
    "import time\n",
    "import sys\n",
    "import numpy as np\n",
    "\n",
    "import matplotlib.pyplot as plt\n"
   ]
  },
  {
   "cell_type": "code",
   "execution_count": 18,
   "metadata": {},
   "outputs": [],
   "source": [
    "# Plotting functions\n",
    "\n",
    "def Plotvec1(u, z, v):\n",
    "    \n",
    "    ax = plt.axes()\n",
    "    ax.arrow(0, 0, *u, head_width=0.05, color='r', head_length=0.1)\n",
    "    plt.text(*(u + 0.1), 'u')\n",
    "    \n",
    "    ax.arrow(0, 0, *v, head_width=0.05, color='b', head_length=0.1)\n",
    "    plt.text(*(v + 0.1), 'v')\n",
    "   \n",
    "    ax.arrow(0, 0, *z, head_width=0.05, head_length=0.1)\n",
    "    plt.text(*(z + 0.1), 'z')\n",
    "    \n",
    "    # to make boundaries of plotting graph\n",
    "    plt.ylim(-5, 10)\n",
    "    plt.xlim(-5, 10)\n",
    "\n",
    "def Plotvec2(a,b):\n",
    "    \n",
    "    ax = plt.axes()\n",
    "    ax.arrow(0, 0, *a, head_width=0.05, color ='r', head_length=0.1)\n",
    "    plt.text(*(a + 0.1), 'a')\n",
    "    \n",
    "    ax.arrow(0, 0, *b, head_width=0.05, color ='b', head_length=0.1)\n",
    "    plt.text(*(b + 0.1), 'b')\n",
    "    \n",
    "    # to make boundaries of plotting graph, it should be same as above function.\n",
    "    plt.ylim(-5, 10)\n",
    "    plt.xlim(-5, 10)\n",
    "    \n",
    "    "
   ]
  },
  {
   "cell_type": "code",
   "execution_count": 27,
   "metadata": {},
   "outputs": [],
   "source": [
    "# To customize grid or graph of vevtors.\n",
    "\n",
    "def Plotvec3(x, y, u, z, v):\n",
    "    \n",
    "    ax = plt.axes()\n",
    "    ax.arrow(0, 0, *u, head_width=0.05, color='r', head_length=0.1)\n",
    "    plt.text(*(u + 0.1), 'u')\n",
    "    \n",
    "    ax.arrow(0, 0, *v, head_width=0.05, color='b', head_length=0.1)\n",
    "    plt.text(*(v + 0.1), 'v')\n",
    "   \n",
    "    ax.arrow(0, 0, *z, head_width=0.05, head_length=0.1)\n",
    "    plt.text(*(z + 0.1), 'z')\n",
    "    \n",
    "    # to make boundaries of plotting graph\n",
    "    plt.ylim(x, y)\n",
    "    plt.xlim(x, y)"
   ]
  },
  {
   "cell_type": "code",
   "execution_count": 28,
   "metadata": {},
   "outputs": [
    {
     "name": "stdout",
     "output_type": "stream",
     "text": [
      "[1 0]\n",
      "[1 1]\n"
     ]
    },
    {
     "data": {
      "image/png": "[encoded data removed]",
      "text/plain": [
       "<Figure size 432x288 with 1 Axes>"
      ]
     },
     "metadata": {
      "needs_background": "light"
     },
     "output_type": "display_data"
    }
   ],
   "source": [
    "u = np.array([1,0])\n",
    "print(u)\n",
    "\n",
    "v = np.array([0,1])\n",
    "\n",
    "# Numpy array addition\n",
    "\n",
    "z= u+v\n",
    "print(z)\n",
    "\n",
    "# Plot numpy arrays\n",
    "x = -2\n",
    "y = 5\n",
    "z1 = 1\n",
    "Plotvec3(x,y,u,z,v)"
   ]
  },
  {
   "cell_type": "code",
   "execution_count": null,
   "metadata": {},
   "outputs": [],
   "source": []
  },
  {
   "cell_type": "code",
   "execution_count": null,
   "metadata": {},
   "outputs": [],
   "source": []
  },
  {
   "cell_type": "code",
   "execution_count": 19,
   "metadata": {},
   "outputs": [
    {
     "name": "stdout",
     "output_type": "stream",
     "text": [
      "[1 0]\n",
      "[1 1]\n"
     ]
    },
    {
     "data": {
      "image/png": "[encoded data removed]",
      "text/plain": [
       "<Figure size 432x288 with 1 Axes>"
      ]
     },
     "metadata": {
      "needs_background": "light"
     },
     "output_type": "display_data"
    }
   ],
   "source": [
    "# Numpy Array Operations\n",
    "# Array Addition\n",
    "\n",
    "u = np.array([1,0])\n",
    "print(u)\n",
    "\n",
    "v = np.array([0,1])\n",
    "\n",
    "# Numpy array addition\n",
    "\n",
    "z= u+v\n",
    "print(z)\n",
    "\n",
    "# Plot numpy arrays\n",
    "\n",
    "Plotvec1(u,z,v)"
   ]
  },
  {
   "cell_type": "code",
   "execution_count": 4,
   "metadata": {},
   "outputs": [
    {
     "name": "stdout",
     "output_type": "stream",
     "text": [
      "[2 3]\n",
      "[5 4]\n"
     ]
    },
    {
     "data": {
      "image/png": "[encoded data removed]",
      "text/plain": [
       "<Figure size 432x288 with 1 Axes>"
      ]
     },
     "metadata": {
      "needs_background": "light"
     },
     "output_type": "display_data"
    }
   ],
   "source": [
    "u = np.array([2,3])\n",
    "print(u)\n",
    "\n",
    "v = np.array([3,1])\n",
    "\n",
    "# Numpy array addition\n",
    "\n",
    "z= u+v\n",
    "print(z)\n",
    "\n",
    "# Plot numpy arrays\n",
    "\n",
    "Plotvec1(u,z,v)\n"
   ]
  },
  {
   "cell_type": "code",
   "execution_count": 5,
   "metadata": {},
   "outputs": [
    {
     "name": "stdout",
     "output_type": "stream",
     "text": [
      "[-1  2]\n"
     ]
    },
    {
     "data": {
      "image/png": "[encoded data removed]",
      "text/plain": [
       "<Figure size 432x288 with 1 Axes>"
      ]
     },
     "metadata": {
      "needs_background": "light"
     },
     "output_type": "display_data"
    }
   ],
   "source": [
    "z = u-v\n",
    "print(z)\n",
    "Plotvec1(u,z,v)"
   ]
  },
  {
   "cell_type": "code",
   "execution_count": 6,
   "metadata": {},
   "outputs": [
    {
     "data": {
      "image/png": "[encoded data removed]",
      "text/plain": [
       "<Figure size 432x288 with 1 Axes>"
      ]
     },
     "metadata": {
      "needs_background": "light"
     },
     "output_type": "display_data"
    }
   ],
   "source": [
    "Plotvec2(u,v)"
   ]
  },
  {
   "cell_type": "code",
   "execution_count": 8,
   "metadata": {},
   "outputs": [
    {
     "name": "stdout",
     "output_type": "stream",
     "text": [
      "subtraction of numpy:  [ 1 -1]\n",
      "Multiply to 2:  [4 8]\n",
      "multiplicatio of two array:  [1 0 3 0 5]\n",
      "None\n",
      "The dot product is 0\n",
      "\n",
      "\n",
      "None\n",
      "The dot product is 0\n"
     ]
    },
    {
     "name": "stderr",
     "output_type": "stream",
     "text": [
      "<ipython-input-2-f6bb1ada704a>:21: MatplotlibDeprecationWarning: Adding an axes using the same arguments as a previous axes currently reuses the earlier instance.  In a future version, a new instance will always be created and returned.  Meanwhile, this warning can be suppressed, and the future behavior ensured, by passing a unique label to each axes instance.\n",
      "  ax = plt.axes()\n"
     ]
    },
    {
     "data": {
      "image/png": "[encoded data removed]",
      "text/plain": [
       "<Figure size 432x288 with 1 Axes>"
      ]
     },
     "metadata": {
      "needs_background": "light"
     },
     "output_type": "display_data"
    }
   ],
   "source": [
    "u = np.array([1, 0])\n",
    "v = np.array([0, 1])\n",
    "print('subtraction of numpy: ', u-v)\n",
    "\n",
    "# Multiply the numpy array z with -2:\n",
    "\n",
    "z = np.array([2, 4])\n",
    "print('Multiply to 2: ', 2*z)\n",
    "\n",
    "# Consider the list [1, 2, 3, 4, 5] and [1, 0, 1, 0, 1], \n",
    "# and cast both lists to a numpy array then multiply them together:\n",
    "\n",
    "a = np.array([1, 2, 3, 4, 5])\n",
    "b = np.array([1, 0, 1, 0, 1])\n",
    "print('multiplicatio of two array: ', a*b)\n",
    "\n",
    "# Convert the list [-1, 1] and [1, 1] to numpy arrays a and b. \n",
    "# Then, plot the arrays as vectors using the fuction Plotvec2 and \n",
    "# find the dot product:\n",
    "\n",
    "a = np.array([-1, 1])\n",
    "b = np.array([1, 1])\n",
    "plot = Plotvec2(a, b)\n",
    "print(plot)\n",
    "print(\"The dot product is\", np.dot(a,b))\n",
    "print('\\n')\n",
    "\n",
    "# Convert the list [1, 0] and [0, 1] to numpy arrays a and b. \n",
    "# Then, plot the arrays as vectors using the function Plotvec2 and \n",
    "# find the dot product:\n",
    "\n",
    "c = np.array([1, 0])\n",
    "d = np.array([0, 1])\n",
    "plot1 = Plotvec2(c, d)\n",
    "print(plot1)\n",
    "print(\"The dot product is\", np.dot(c, d))\n"
   ]
  },
  {
   "cell_type": "code",
   "execution_count": null,
   "metadata": {},
   "outputs": [],
   "source": []
  }
 ],
 "metadata": {
  "kernelspec": {
   "display_name": "Python 3",
   "language": "python",
   "name": "python3"
  },
  "language_info": {
   "codemirror_mode": {
    "name": "ipython",
    "version": 3
   },
   "file_extension": ".py",
   "mimetype": "text/x-python",
   "name": "python",
   "nbconvert_exporter": "python",
   "pygments_lexer": "ipython3",
   "version": "3.8.2"
  }
 },
 "nbformat": 4,
 "nbformat_minor": 4
}
